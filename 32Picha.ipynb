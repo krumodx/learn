{
  "cells": [
    {
      "cell_type": "markdown",
      "metadata": {
        "id": "view-in-github",
        "colab_type": "text"
      },
      "source": [
        "<a href=\"https://colab.research.google.com/github/krumodx/learn/blob/main/32Picha.ipynb\" target=\"_parent\"><img src=\"https://colab.research.google.com/assets/colab-badge.svg\" alt=\"Open In Colab\"/></a>"
      ]
    },
    {
      "cell_type": "markdown",
      "metadata": {
        "id": "Rc167thdllqw"
      },
      "source": [
        "#การเรียนโปรแกรมคำนวณค่าพื้นที่รูปสี่เหลี่ยม\n",
        "Pseudo code\n",
        "1. start\n",
        "2. input width , length\n",
        "3. compute area = width * length\n",
        "4. print area"
      ]
    },
    {
      "cell_type": "code",
      "execution_count": null,
      "metadata": {
        "id": "VRU36zJOn8Lq"
      },
      "outputs": [],
      "source": [
        "width=int(input('กรุณาใส่ความกว้างของรูปสี่เหลี่ยม'))\n",
        "length=int(input('กรุณาใส่ความยาวของรูปสี่เหลี่ยม'))\n",
        "area=width*length\n",
        "print('พื้นที่รูปสี่เหลี่ยมรูปนี้มีขนาด',area,'ตารางเซนติเมตร')"
      ]
    },
    {
      "cell_type": "markdown",
      "metadata": {
        "id": "GFUUdxPewCQ3"
      },
      "source": [
        "#การเรียนโปรแกรมคำนวณค่าพื้นที่รูปสามเหลี่ยม\n",
        "Pseudo code\n",
        "1. start\n",
        "2. input height , base\n",
        "3. compute area = height * base\n",
        "4. print area"
      ]
    },
    {
      "cell_type": "code",
      "execution_count": null,
      "metadata": {
        "id": "PSJTFoivwZNj"
      },
      "outputs": [],
      "source": [
        "Theight=int(input('กรุณาใส่ความสูงของรูปสามเหลี่ยม'))\n",
        "base=int(input('กรุณาใส่ความยาวฐานของรูปสามเหลี่ยม'))\n",
        "area=1/2*base*height\n",
        "print('พื้นที่รูปสามเหลี่ยยมรูปนี้มีขนาด',area,'ตารางเซนติเมตร')"
      ]
    },
    {
      "cell_type": "markdown",
      "metadata": {
        "id": "RYHOC2Otx623"
      },
      "source": [
        "#การเรียนโปรแกรมคำนวณค่าพื้นที่รูปวงกลม\n",
        "Pseudo code\n",
        "1. start\n",
        "2. input radius\n",
        "3. compute area = 22/7*radius^2\n",
        "4. print area"
      ]
    },
    {
      "cell_type": "markdown",
      "metadata": {
        "id": "mrJgirkJ0OD-"
      },
      "source": [
        "#การเรียนโปรแกรมคำนวณค่าความยาวเส้นรอบรูปวงกลม\n",
        "Pseudo code\n",
        "1. start\n",
        "2. input radius\n",
        "3. compute area = 2*22/7*radius\n",
        "4. print area"
      ]
    },
    {
      "cell_type": "code",
      "execution_count": null,
      "metadata": {
        "id": "idyr6jZzyemm"
      },
      "outputs": [],
      "source": [
        "radius=int(input('กรุณาใส่ความยาวรัศมีของวงกลม'))\n",
        "area=22/7*radius**2\n",
        "line=2*22/7*radius\n",
        "print('พื้นที่วงกลมรูปนี้มีขนาด',area,'ตารางเซนติมเตร')\n",
        "print('ความยาวเส้นรอบรูปมีขนาด',line,'ตารางเซนติเมตร')"
      ]
    },
    {
      "cell_type": "markdown",
      "metadata": {
        "id": "j8SdtfZ6gzbZ"
      },
      "source": [
        "#ลูกค้าคนหนึ่ง กู้ยืมเงินจากบริษัทปล่อยสินเชื่อเพื่อซื้อสินค้ามาขายเป็นเงิน 5,000 บาท  โดยบริษัทคิดดอกเบี้ยในอัตรา 12% ต่อปี  เมื่อครบเวลากู้ลูกค้าคนนี้ต้องชำระดอกเบี้ยเป็นเงินเท่าไหร่\n",
        "Pseudo code\n",
        "1. start\n",
        "2. input loan , year , month\n",
        "3. compute interest = ((loan * interest)/12)*((years * 12)+month)\n",
        "4. print interest"
      ]
    },
    {
      "cell_type": "code",
      "execution_count": null,
      "metadata": {
        "id": "_Clm6Nruj8_J"
      },
      "outputs": [],
      "source": [
        "loan=int(input('กรุณาใส่จำนวนเงินกู้'))\n",
        "year=int(input('กรุณาใส่จำนวนปี'))\n",
        "month=int(input('กรุณาใส่จำนวนเดือน'))\n",
        "interest=((loan*12/100)/12)*((year*12)+month)\n",
        "print('ดอกเบี้ยที่ลูกค้าต้องชำระทั้งหมดเป็นเงิน',interest,'บาท')"
      ]
    },
    {
      "cell_type": "code",
      "execution_count": null,
      "metadata": {
        "id": "ADaRBe3Xz3Hk"
      },
      "outputs": [],
      "source": [
        "a=11//2\n",
        "b=11%2\n",
        "print(a)\n",
        "print(b)"
      ]
    },
    {
      "cell_type": "markdown",
      "metadata": {
        "id": "Zjr2bvFi02uC"
      },
      "source": [
        "// = หารกันเอาเศษออก\n",
        "% = หารกันแต่เอาแค่เศษ"
      ]
    },
    {
      "cell_type": "markdown",
      "metadata": {
        "id": "LZ1-taeb1kQT"
      },
      "source": [
        "#โจทย์อะไรไม่รู้จำไม่ได้\n",
        "Pseudo code\n",
        "1. start\n",
        "2. input dis_way\n",
        "3. compute net = 35+(dis_way*s)\n",
        "4. print net"
      ]
    },
    {
      "cell_type": "code",
      "execution_count": null,
      "metadata": {
        "id": "GtfzAIN21dWZ"
      },
      "outputs": [],
      "source": [
        "dis_way=int(input('กรุณาใส่กิโลเมตร'))\n",
        "net=35+(dis_way*2)\n",
        "print('ค่าโดยสารที่ต้องจ่ายเป็นเงินทั้งหมด',net,'บาท')"
      ]
    },
    {
      "cell_type": "markdown",
      "metadata": {
        "id": "yiBoCk44oWs_"
      },
      "source": [
        "#คำนวณค่าขนม\n",
        "*สิ่งที่ต้องการ(output)\n",
        "*ข้อมูลนำเข้า(input)\n",
        "*ขั้นตอนการประมวลผล(process)"
      ]
    },
    {
      "cell_type": "code",
      "execution_count": null,
      "metadata": {
        "id": "coh5KKPJodE-"
      },
      "outputs": [],
      "source": [
        "tal=int(input('กรุณาใส่จำนวนชิ้นที่ซื้อ'))\n",
        "banana=int(input('กรุณาใส่จำนวนชิ้นที่ซื้อ'))\n",
        "sai=int(input('กรุณาใส่จำนวนชิ้นที่ซื้อ'))\n",
        "money=(tal*2)+(banana*3)+(sai*4)\n",
        "print('คุณต้องจ่ายค่าขนมทั้งหมด',money,'บาท')"
      ]
    },
    {
      "cell_type": "markdown",
      "metadata": {
        "id": "pkcddZ0hurkC"
      },
      "source": [
        "#เงินทอน"
      ]
    },
    {
      "cell_type": "code",
      "execution_count": null,
      "metadata": {
        "id": "dPmtcQFBvUkw"
      },
      "outputs": [],
      "source": [
        "money_ton=int(input('กรุณาใส่เงินทอน'))\n",
        "ten_coin=money_ton//10\n",
        "five_coin=(money_ton%10)//5\n",
        "two_coin=(money_ton%5)//2\n",
        "one_coin=((money_ton%5)%2)\n",
        "print('คุณได้เหรียญ10',ten_coin,'เหรียญ')\n",
        "print('คุณได้เหรียญ5',five_coin,'เหรียญ')\n",
        "print('คุณได้เหรียญ2',two_coin,'เหรียญ')\n",
        "print('คุณได้เหรียญ1',one_coin,'เหรียญ')"
      ]
    },
    {
      "cell_type": "markdown",
      "metadata": {
        "id": "XwKD4yuX0PEO"
      },
      "source": [
        "#โปรแกรมคำนวณค่าคอมมิชชั่น"
      ]
    },
    {
      "cell_type": "code",
      "execution_count": null,
      "metadata": {
        "id": "sqXHxLmyvjFL"
      },
      "outputs": [],
      "source": [
        "std_id=(input('กรุณาใส่รหัสนักเรียน'))\n",
        "name=(input('กรุณาใส่ชื่อของคุณ'))\n",
        "sale=float(input('กรุณาใส่ยอดขาย'))\n",
        "commis=(sale*20/100)\n",
        "print('สวัสดีคุณ',std_id,name)\n",
        "print('คุณได้รับค่าคอมมิชชั่นเป็นจำนวนเงิน',commis,'บาท')"
      ]
    },
    {
      "cell_type": "code",
      "execution_count": null,
      "metadata": {
        "id": "ERRP1SCa2DdU"
      },
      "outputs": [],
      "source": [
        "cost_box=int(input('กรุณาใส่ราคาต่อลัง'))\n",
        "products_box=int(input('กรุณาใส่จำนวนสินค้าในลัง'))\n",
        "cost_item=cost_box/products_box\n",
        "shop_item=cost_item+(cost_item*20/100)\n",
        "print('ราคาต่อชิ้น',cost_item,'บาท และราคาขายสินค้าหน้าร้านแม่',shop_item,'บาท')"
      ]
    },
    {
      "cell_type": "code",
      "execution_count": null,
      "metadata": {
        "id": "kt5B1Abo-QtN"
      },
      "outputs": [],
      "source": [
        "score=int(input('กรุณาใส่คะแนนของคุณ'))\n",
        "if score<50:\n",
        "  print('สอบตก')\n",
        "else:\n",
        "  print('สอบผ่าน')"
      ]
    },
    {
      "cell_type": "code",
      "execution_count": null,
      "metadata": {
        "id": "bAgfIeCTUXFp"
      },
      "outputs": [],
      "source": [
        "nueng=int(input('กรุณาใส่จำนวนแรก'))\n",
        "song=int(input('กรุณาใส่จำนวนที่สอง'))\n",
        "if nueng<song:\n",
        "  print(nueng,'<',song)\n",
        "elif nueng<song:\n",
        "  print(nueng,'>',song)\n",
        "else:\n",
        "  print(nueng,'=',song)"
      ]
    },
    {
      "cell_type": "code",
      "execution_count": null,
      "metadata": {
        "id": "kipCABBq5QDR"
      },
      "outputs": [],
      "source": [
        "p_n=(input('ชื่อสินค้า'))\n",
        "p_price=int(input('ราคาสินค้า'))\n",
        "num=int(input('จำนวนสินค้า'))\n",
        "total_p=p_price*num\n",
        "if total_p>=2000:\n",
        "  discount=total_p*20/100\n",
        "else:\n",
        "  discount=total_p*5/100\n",
        "net_p=total_p-discount\n",
        "print(p_n,'ราคารวมสินค้าทั้งหมด',total_p,'บาท   ได้รับส่วนลด',discount,'บาท  คุณต้องจ่ายทั้งหมด',net_p,'บาท')"
      ]
    },
    {
      "cell_type": "code",
      "execution_count": null,
      "metadata": {
        "colab": {
          "base_uri": "https://localhost:8080/"
        },
        "id": "f6kU4tO3FN3-",
        "outputId": "397f57e2-5433-44e7-e351-9c9407b0f1ef"
      },
      "outputs": [
        {
          "name": "stdout",
          "output_type": "stream",
          "text": [
            "ใส่ bmi30\n",
            "30.0 โรคอ้วนอันตราย\n"
          ]
        }
      ],
      "source": [
        "weight=int(input('ใส่น้ำหนัก'))\n",
        "height_can=int(input('ใส่ส่วนสูง'))\n",
        "height_m=height_can/100\n",
        "bmi=weight/(height_m**2)\n",
        "bmi=float(input('ใส่ bmi'))\n",
        "if bmi<18.5 :\n",
        "  print(bmi,'น้ำหนักต่ำกว่าเกณฑ์')\n",
        "elif 18.5<=bmi<=22.9 :\n",
        "  print(bmi,'สมส่วน')\n",
        "elif 22.9<=bmi<=24.9 :\n",
        "  print(bmi,'น้ำหนักเกิน')\n",
        "elif 25.0<=bmi<=29.9 :\n",
        "  print(bmi,'โรคอ้วน')\n",
        "else :\n",
        "  print(bmi,'โรคอ้วนอันตราย')"
      ]
    },
    {
      "cell_type": "code",
      "execution_count": null,
      "metadata": {
        "colab": {
          "base_uri": "https://localhost:8080/"
        },
        "id": "H10yu7MB7vyN",
        "outputId": "0e2c4cda-e63d-486c-84df-d8f191644dfc"
      },
      "outputs": [
        {
          "name": "stdout",
          "output_type": "stream",
          "text": [
            "เงินได้สุทธิต่อปี5000001\n",
            "คุณได้จ่ายภาษีทั้งหมด 1750000.35\n"
          ]
        }
      ],
      "source": [
        "income=float(input('เงินได้สุทธิต่อปี'))\n",
        "if income<=150000:\n",
        "  tax=0\n",
        "elif 150001<=income<=300000 :\n",
        "  tax=income*5/100\n",
        "elif 300001<=income<=500000 :\n",
        "  tax=income*10/100\n",
        "elif 500001<=income<=750000 :\n",
        "  tax=income*15/100\n",
        "elif 750001<=income<=1000000 :\n",
        "  tax=income*20/100\n",
        "elif 1000001<=income<=2000000 :\n",
        "  tax=income*25/100\n",
        "elif 2000001<=income<=5000000 :\n",
        "  tax=income*30/100\n",
        "else :\n",
        "  tax=income*35/100\n",
        "print('คุณได้จ่ายภาษีทั้งหมด',tax,'บาท')"
      ]
    },
    {
      "cell_type": "markdown",
      "metadata": {
        "id": "swvQpssfFYd4"
      },
      "source": [
        "#การวนซ้ำ(Loop)\n",
        "           *while loop"
      ]
    },
    {
      "cell_type": "code",
      "execution_count": null,
      "metadata": {
        "colab": {
          "base_uri": "https://localhost:8080/"
        },
        "id": "DnDy3fxhFMQc",
        "outputId": "5777af82-1570-4ca8-ce4b-f1676a7af79f"
      },
      "outputs": [
        {
          "name": "stdout",
          "output_type": "stream",
          "text": [
            "1 , 2 , 3 , 4 , 5 , 6 , 7 , 8 , 9 , 10 , "
          ]
        }
      ],
      "source": [
        "i=1\n",
        "while  i<=10 :\n",
        "  print(i,end=' , ')\n",
        "  i+=1  #มีค่าเท่ากับ i=i+1"
      ]
    },
    {
      "cell_type": "code",
      "execution_count": null,
      "metadata": {
        "colab": {
          "base_uri": "https://localhost:8080/"
        },
        "id": "k7brJxlsG_ub",
        "outputId": "d37581bd-5068-4230-9448-32f52e221e8a"
      },
      "outputs": [
        {
          "name": "stdout",
          "output_type": "stream",
          "text": [
            "500 , 495 , 490 , 485 , 480 , 475 , 470 , 465 , 460 , 455 , 450 , 445 , 440 , 435 , 430 , 425 , 420 , 415 , 410 , 405 , 400 , 395 , 390 , 385 , 380 , 375 , 370 , 365 , 360 , 355 , 350 , 345 , 340 , 335 , 330 , 325 , 320 , 315 , 310 , 305 , 300 , 295 , 290 , 285 , 280 , 275 , 270 , 265 , 260 , 255 , 250 , 245 , 240 , 235 , 230 , 225 , 220 , 215 , 210 , 205 , 200 , 195 , 190 , 185 , 180 , 175 , 170 , 165 , 160 , 155 , 150 , 145 , 140 , 135 , 130 , 125 , 120 , 115 , 110 , 105 , 100 , 95 , 90 , 85 , 80 , 75 , 70 , 65 , 60 , 55 , 50 , 45 , 40 , 35 , 30 , 25 , 20 , 15 , 10 , 5 , 0 , "
          ]
        }
      ],
      "source": [
        "i=500\n",
        "while  i>=0 :\n",
        "  print(i,end=' , ')\n",
        "  i-=5   #มีค่าเท่ากับ i=i-5"
      ]
    },
    {
      "cell_type": "code",
      "execution_count": null,
      "metadata": {
        "colab": {
          "base_uri": "https://localhost:8080/"
        },
        "id": "WS_mtS7WImWx",
        "outputId": "e7ad6a2b-beb6-4d5a-82d7-636f84b908ca"
      },
      "outputs": [
        {
          "name": "stdout",
          "output_type": "stream",
          "text": [
            "ใส่แม่สูตรคูณ25\n",
            "25 x 1 = 25\n",
            "25 x 2 = 50\n",
            "25 x 3 = 75\n",
            "25 x 4 = 100\n",
            "25 x 5 = 125\n",
            "25 x 6 = 150\n",
            "25 x 7 = 175\n",
            "25 x 8 = 200\n",
            "25 x 9 = 225\n",
            "25 x 10 = 250\n",
            "25 x 11 = 275\n",
            "25 x 12 = 300\n",
            "25 x 13 = 325\n",
            "25 x 14 = 350\n",
            "25 x 15 = 375\n",
            "25 x 16 = 400\n",
            "25 x 17 = 425\n",
            "25 x 18 = 450\n",
            "25 x 19 = 475\n",
            "25 x 20 = 500\n",
            "25 x 21 = 525\n",
            "25 x 22 = 550\n",
            "25 x 23 = 575\n",
            "25 x 24 = 600\n",
            "25 x 25 = 625\n",
            "25 x 26 = 650\n",
            "25 x 27 = 675\n",
            "25 x 28 = 700\n",
            "25 x 29 = 725\n",
            "25 x 30 = 750\n",
            "25 x 31 = 775\n",
            "25 x 32 = 800\n",
            "25 x 33 = 825\n",
            "25 x 34 = 850\n",
            "25 x 35 = 875\n",
            "25 x 36 = 900\n",
            "25 x 37 = 925\n",
            "25 x 38 = 950\n",
            "25 x 39 = 975\n",
            "25 x 40 = 1000\n",
            "25 x 41 = 1025\n",
            "25 x 42 = 1050\n",
            "25 x 43 = 1075\n",
            "25 x 44 = 1100\n",
            "25 x 45 = 1125\n",
            "25 x 46 = 1150\n",
            "25 x 47 = 1175\n",
            "25 x 48 = 1200\n",
            "25 x 49 = 1225\n",
            "25 x 50 = 1250\n",
            "25 x 51 = 1275\n",
            "25 x 52 = 1300\n",
            "25 x 53 = 1325\n",
            "25 x 54 = 1350\n",
            "25 x 55 = 1375\n",
            "25 x 56 = 1400\n",
            "25 x 57 = 1425\n",
            "25 x 58 = 1450\n",
            "25 x 59 = 1475\n",
            "25 x 60 = 1500\n",
            "25 x 61 = 1525\n",
            "25 x 62 = 1550\n",
            "25 x 63 = 1575\n",
            "25 x 64 = 1600\n",
            "25 x 65 = 1625\n",
            "25 x 66 = 1650\n",
            "25 x 67 = 1675\n",
            "25 x 68 = 1700\n",
            "25 x 69 = 1725\n",
            "25 x 70 = 1750\n",
            "25 x 71 = 1775\n",
            "25 x 72 = 1800\n",
            "25 x 73 = 1825\n",
            "25 x 74 = 1850\n",
            "25 x 75 = 1875\n",
            "25 x 76 = 1900\n",
            "25 x 77 = 1925\n",
            "25 x 78 = 1950\n",
            "25 x 79 = 1975\n",
            "25 x 80 = 2000\n",
            "25 x 81 = 2025\n",
            "25 x 82 = 2050\n",
            "25 x 83 = 2075\n",
            "25 x 84 = 2100\n",
            "25 x 85 = 2125\n",
            "25 x 86 = 2150\n",
            "25 x 87 = 2175\n",
            "25 x 88 = 2200\n",
            "25 x 89 = 2225\n",
            "25 x 90 = 2250\n",
            "25 x 91 = 2275\n",
            "25 x 92 = 2300\n",
            "25 x 93 = 2325\n",
            "25 x 94 = 2350\n",
            "25 x 95 = 2375\n",
            "25 x 96 = 2400\n",
            "25 x 97 = 2425\n",
            "25 x 98 = 2450\n",
            "25 x 99 = 2475\n",
            "25 x 100 = 2500\n"
          ]
        }
      ],
      "source": [
        "x=int(input('ใส่แม่สูตรคูณ'))\n",
        "i=1\n",
        "while  i<=100 :\n",
        "  print(x,'x',i,'=',x*i)\n",
        "  i+=1"
      ]
    },
    {
      "cell_type": "code",
      "execution_count": null,
      "metadata": {
        "colab": {
          "base_uri": "https://localhost:8080/"
        },
        "id": "6Kzji4k0Mvae",
        "outputId": "12042da1-c66d-4b51-f10f-f0ed384011ea"
      },
      "outputs": [
        {
          "name": "stdout",
          "output_type": "stream",
          "text": [
            " * \n",
            " *  * \n",
            " *  *  * \n",
            " *  *  *  * \n",
            " *  *  *  *  * \n",
            " *  *  *  *  *  * \n",
            " *  *  *  *  *  *  * \n",
            " *  *  *  *  *  *  *  * \n",
            " *  *  *  *  *  *  *  *  * \n",
            " *  *  *  *  *  *  *  *  *  * \n",
            " *  *  *  *  *  *  *  *  *  *  * \n",
            " *  *  *  *  *  *  *  *  *  *  *  * \n",
            " *  *  *  *  *  *  *  *  *  *  *  *  * \n",
            " *  *  *  *  *  *  *  *  *  *  *  *  *  * \n",
            " *  *  *  *  *  *  *  *  *  *  *  *  *  *  * \n",
            " *  *  *  *  *  *  *  *  *  *  *  *  *  *  *  * \n",
            " *  *  *  *  *  *  *  *  *  *  *  *  *  *  *  *  * \n",
            " *  *  *  *  *  *  *  *  *  *  *  *  *  *  *  *  *  * \n",
            " *  *  *  *  *  *  *  *  *  *  *  *  *  *  *  *  *  *  * \n",
            " *  *  *  *  *  *  *  *  *  *  *  *  *  *  *  *  *  *  *  * \n",
            " *  *  *  *  *  *  *  *  *  *  *  *  *  *  *  *  *  *  *  *  * \n",
            " *  *  *  *  *  *  *  *  *  *  *  *  *  *  *  *  *  *  *  *  *  * \n",
            " *  *  *  *  *  *  *  *  *  *  *  *  *  *  *  *  *  *  *  *  *  *  * \n",
            " *  *  *  *  *  *  *  *  *  *  *  *  *  *  *  *  *  *  *  *  *  *  *  * \n",
            " *  *  *  *  *  *  *  *  *  *  *  *  *  *  *  *  *  *  *  *  *  *  *  *  * \n"
          ]
        }
      ],
      "source": [
        "i=1\n",
        "while  i<=25 :\n",
        "  print(' * '*i)\n",
        "  i+=1"
      ]
    },
    {
      "cell_type": "code",
      "execution_count": null,
      "metadata": {
        "colab": {
          "base_uri": "https://localhost:8080/"
        },
        "id": "du0V29Yq9h15",
        "outputId": "bc68ff71-27d7-4061-8900-5c7b79c50e03"
      },
      "outputs": [
        {
          "name": "stdout",
          "output_type": "stream",
          "text": [
            "1 x 2 = 2\n",
            "2 x 2 = 4\n",
            "3 x 2 = 6\n",
            "4 x 2 = 8\n",
            "5 x 2 = 10\n",
            "6 x 2 = 12\n",
            "7 x 2 = 14\n",
            "8 x 2 = 16\n",
            "9 x 2 = 18\n",
            "10 x 2 = 20\n",
            "11 x 2 = 22\n",
            "12 x 2 = 24\n",
            "1 x 3 = 3\n",
            "2 x 3 = 6\n",
            "3 x 3 = 9\n",
            "4 x 3 = 12\n",
            "5 x 3 = 15\n",
            "6 x 3 = 18\n",
            "7 x 3 = 21\n",
            "8 x 3 = 24\n",
            "9 x 3 = 27\n",
            "10 x 3 = 30\n",
            "11 x 3 = 33\n",
            "12 x 3 = 36\n",
            "1 x 4 = 4\n",
            "2 x 4 = 8\n",
            "3 x 4 = 12\n",
            "4 x 4 = 16\n",
            "5 x 4 = 20\n",
            "6 x 4 = 24\n",
            "7 x 4 = 28\n",
            "8 x 4 = 32\n",
            "9 x 4 = 36\n",
            "10 x 4 = 40\n",
            "11 x 4 = 44\n",
            "12 x 4 = 48\n",
            "1 x 5 = 5\n",
            "2 x 5 = 10\n",
            "3 x 5 = 15\n",
            "4 x 5 = 20\n",
            "5 x 5 = 25\n",
            "6 x 5 = 30\n",
            "7 x 5 = 35\n",
            "8 x 5 = 40\n",
            "9 x 5 = 45\n",
            "10 x 5 = 50\n",
            "11 x 5 = 55\n",
            "12 x 5 = 60\n",
            "1 x 6 = 6\n",
            "2 x 6 = 12\n",
            "3 x 6 = 18\n",
            "4 x 6 = 24\n",
            "5 x 6 = 30\n",
            "6 x 6 = 36\n",
            "7 x 6 = 42\n",
            "8 x 6 = 48\n",
            "9 x 6 = 54\n",
            "10 x 6 = 60\n",
            "11 x 6 = 66\n",
            "12 x 6 = 72\n",
            "1 x 7 = 7\n",
            "2 x 7 = 14\n",
            "3 x 7 = 21\n",
            "4 x 7 = 28\n",
            "5 x 7 = 35\n",
            "6 x 7 = 42\n",
            "7 x 7 = 49\n",
            "8 x 7 = 56\n",
            "9 x 7 = 63\n",
            "10 x 7 = 70\n",
            "11 x 7 = 77\n",
            "12 x 7 = 84\n",
            "1 x 8 = 8\n",
            "2 x 8 = 16\n",
            "3 x 8 = 24\n",
            "4 x 8 = 32\n",
            "5 x 8 = 40\n",
            "6 x 8 = 48\n",
            "7 x 8 = 56\n",
            "8 x 8 = 64\n",
            "9 x 8 = 72\n",
            "10 x 8 = 80\n",
            "11 x 8 = 88\n",
            "12 x 8 = 96\n",
            "1 x 9 = 9\n",
            "2 x 9 = 18\n",
            "3 x 9 = 27\n",
            "4 x 9 = 36\n",
            "5 x 9 = 45\n",
            "6 x 9 = 54\n",
            "7 x 9 = 63\n",
            "8 x 9 = 72\n",
            "9 x 9 = 81\n",
            "10 x 9 = 90\n",
            "11 x 9 = 99\n",
            "12 x 9 = 108\n",
            "1 x 10 = 10\n",
            "2 x 10 = 20\n",
            "3 x 10 = 30\n",
            "4 x 10 = 40\n",
            "5 x 10 = 50\n",
            "6 x 10 = 60\n",
            "7 x 10 = 70\n",
            "8 x 10 = 80\n",
            "9 x 10 = 90\n",
            "10 x 10 = 100\n",
            "11 x 10 = 110\n",
            "12 x 10 = 120\n",
            "1 x 11 = 11\n",
            "2 x 11 = 22\n",
            "3 x 11 = 33\n",
            "4 x 11 = 44\n",
            "5 x 11 = 55\n",
            "6 x 11 = 66\n",
            "7 x 11 = 77\n",
            "8 x 11 = 88\n",
            "9 x 11 = 99\n",
            "10 x 11 = 110\n",
            "11 x 11 = 121\n",
            "12 x 11 = 132\n",
            "1 x 12 = 12\n",
            "2 x 12 = 24\n",
            "3 x 12 = 36\n",
            "4 x 12 = 48\n",
            "5 x 12 = 60\n",
            "6 x 12 = 72\n",
            "7 x 12 = 84\n",
            "8 x 12 = 96\n",
            "9 x 12 = 108\n",
            "10 x 12 = 120\n",
            "11 x 12 = 132\n",
            "12 x 12 = 144\n"
          ]
        }
      ],
      "source": [
        "i=2\n",
        "while  i<=12 :\n",
        "  j=1\n",
        "  while  j<=12 :\n",
        "    print(j,'x',i,'=',j*i)\n",
        "    j+=1\n",
        "  i+=1"
      ]
    },
    {
      "cell_type": "code",
      "execution_count": null,
      "metadata": {
        "id": "ZR6CWs0dDoxH"
      },
      "outputs": [],
      "source": [
        "i=1\n",
        "while  i<=10 :\n",
        "  print(i,'picha'*i)\n",
        "  i+=1  #มีค่าเท่ากับ i=i+1"
      ]
    },
    {
      "cell_type": "code",
      "execution_count": null,
      "metadata": {
        "id": "s_Jt1X0sHP16"
      },
      "outputs": [],
      "source": [
        "print('************โปรแกรมคำนวณพื้นที่รูปเรขาคณิต************')\n",
        "print('พิมพ์  1  เพื่อคำนวณพื่นที่รูปสี่เหลี่ยม')\n",
        "print('พิมพ์  2  เพื่อคำนวณพื่นที่รูปสามเหลี่ยม')\n",
        "print('พิมพ์  3  เพื่อคำนวณพื่นที่รูปวงกลม')\n",
        "print('พิมพ์  -1  เพื่อออกจากโปรแกรม')\n",
        "num=int(input('กรุณาพิมพ์ตัวเลขเพื่อคำนวณพื้นที่ที่คุณต้องการ'))\n",
        "while  num != -1:\n",
        "    if num==1 :\n",
        "       print('************โปรแกรมคำนวณพื้นที่รูปสี่เหลี่ยม************')\n",
        "       width=int(input('กรุณาใส่ความกว้างของรูปสี่เหลี่ยม'))\n",
        "       length=int(input('กรุณาใส่ความยาวของรูปสี่เหลี่ยม'))\n",
        "       area=width*length\n",
        "       print('พื้นที่รูปสี่เหลี่ยมรูปนี้มีขนาด',area,'ตารางเซนติเมตร')\n",
        "    elif num==2 :\n",
        "       print('************โปรแกรมคำนวณพื้นที่รูปสามเหลี่ยม************')\n",
        "       height=int(input('กรุณาใส่ความสูงของรูปสามเหลี่ยม'))\n",
        "       base=int(input('กรุณาใส่ความยาวฐานของรูปสามเหลี่ยม'))\n",
        "       area=1/2*base*height\n",
        "       print('พื้นที่รูปสามเหลี่ยมรูปนี้มีขนาด',area,'ตารางเซนติเมตร')\n",
        "    elif num==3 :\n",
        "       print('************โปรแกรมคำนวณพื้นที่รูปวงกลม************')\n",
        "       radius=int(input('กรุณาใส่ความยาวรัศมีของวงกลม'))\n",
        "       area=22/7*radius**2\n",
        "       print('พื้นที่วงกลมรูปนี้มีขนาด',area,'ตารางเซนติมเตร')\n",
        "    else :\n",
        "       print('ไม่มีตัวเลือกที่คุณต้องการ      กรุณาเลือกใหม่')\n",
        "print('************โปรแกรมคำนวณพื้นที่รูปเรขาคณิต************')\n",
        "print('พิมพ์  1  เพื่อคำนวณพื่นที่รูปสี่เหลี่ยม')\n",
        "print('พิมพ์  2  เพื่อคำนวณพื่นที่รูปสามเหลี่ยม')\n",
        "print('พิมพ์  3  เพื่อคำนวณพื่นที่รูปวงกลม')\n",
        "print('พิมพ์  -1  เพื่อออกจากโปรแกรม')\n",
        "num=int(input('กรุณาพิมพ์ตัวเลขเพื่อคำนวณพื้นที่ที่คุณต้องการ'))"
      ]
    },
    {
      "cell_type": "markdown",
      "source": [
        "#ข้อ1"
      ],
      "metadata": {
        "id": "4Us2FgcaH9Bl"
      }
    },
    {
      "cell_type": "code",
      "source": [
        "num1=int(input('ใส่ตัวเลขที่1........'))\n",
        "num2=int(input('ใส่ตัวเลขที่2........'))\n",
        "num3=int(input('ใส่ตัวเลขที่3........'))\n",
        "if  num1>num2 :\n",
        "    num1>num3\n",
        "    print('ตัวเลขที่มีค่ามากที่สุดคือ.......',num1)\n",
        "elif num2>num3 :\n",
        "    print('ตัวเลขที่มีค่ามากที่สุดคือ.......',num2)\n",
        "else :\n",
        "    print('ตัวเลขที่มีค่ามากที่สุดคือ.......',num3)"
      ],
      "metadata": {
        "colab": {
          "base_uri": "https://localhost:8080/"
        },
        "id": "ZkMcppyiICJw",
        "outputId": "d2921e15-a2cc-4262-9e73-365af05a914f"
      },
      "execution_count": 18,
      "outputs": [
        {
          "output_type": "stream",
          "name": "stdout",
          "text": [
            "ใส่ตัวเลขที่111\n",
            "ใส่ตัวเลขที่212\n",
            "ใส่ตัวเลขที่39\n",
            "ตัวเลขที่มีค่ามากที่สุดคือ....... 12\n"
          ]
        }
      ]
    },
    {
      "cell_type": "markdown",
      "source": [
        "#ข้อ2"
      ],
      "metadata": {
        "id": "PR5ENgnfHqrg"
      }
    },
    {
      "cell_type": "code",
      "source": [
        "width=int(input('กรุณาใส่ความกว้างของรูปสี่เหลี่ยม'))\n",
        "length=int(input('กรุณาใส่ความยาวของรูปสี่เหลี่ยม'))\n",
        "area=width*length\n",
        "if  width==length :\n",
        "    print('พื้นที่รูปจัตุรัสรูปนี้มีขนาด',area,'ตารางเซนติเมตร')\n",
        "else :\n",
        "    print('พื้นที่รูปสี่เหลี่ยมรูปนี้มีขนาด',area,'ตารางเซนติเมตร')"
      ],
      "metadata": {
        "colab": {
          "base_uri": "https://localhost:8080/"
        },
        "id": "AjNtYPJRGRbS",
        "outputId": "b54aa47c-c96c-4620-e8d0-8312d463ea3b"
      },
      "execution_count": 6,
      "outputs": [
        {
          "output_type": "stream",
          "name": "stdout",
          "text": [
            "กรุณาใส่ความกว้างของรูปสี่เหลี่ยม15\n",
            "กรุณาใส่ความยาวของรูปสี่เหลี่ยม16\n",
            "พื้นที่รูปสี่เหลี่ยมรูปนี้มีขนาด 240 ตารางเซนติเมตร\n"
          ]
        }
      ]
    },
    {
      "cell_type": "markdown",
      "source": [
        "#ข้อ3"
      ],
      "metadata": {
        "id": "GjkWtwF9IRO4"
      }
    },
    {
      "cell_type": "code",
      "source": [
        "income=float(input('เงินได้สุทธิต่อปี'))\n",
        "if income<=100000:\n",
        "  tax=0\n",
        "elif 100001<=income<=500000 :\n",
        "  tax=income*5/100\n",
        "elif 500001<=income<=1000000 :\n",
        "  tax=income*10/100\n",
        "else :\n",
        "  tax=income*20/100\n",
        "print('คุณได้จ่ายภาษีทั้งหมด',tax,'บาท')"
      ],
      "metadata": {
        "colab": {
          "base_uri": "https://localhost:8080/"
        },
        "id": "w6n6Vj8YIToo",
        "outputId": "6ffde985-9688-450a-bea7-235588410902"
      },
      "execution_count": 8,
      "outputs": [
        {
          "output_type": "stream",
          "name": "stdout",
          "text": [
            "เงินได้สุทธิต่อปี10000000\n",
            "คุณได้จ่ายภาษีทั้งหมด 2000000.0 บาท\n"
          ]
        }
      ]
    },
    {
      "cell_type": "markdown",
      "source": [
        "#ข้อ4"
      ],
      "metadata": {
        "id": "XRSdVpItIY-Q"
      }
    },
    {
      "cell_type": "code",
      "source": [
        "nuai1=int(input('ใส่คะแนนหน่วย1.....'))\n",
        "nuai2=int(input('ใส่คะแนนหน่วย2.....'))\n",
        "sop_klang_phak=int(input('ใส่คะแนนสอบกลางภาค.....'))\n",
        "sop_plai_phak=int(input('ใส่คะแนนสอบปลายภาค.....1'))\n",
        "kret=nuai1+nuai2+sop_klang_phak+sop_plai_phak\n",
        "if 0<=kret<=49 :\n",
        "   kret=0\n",
        "elif 50<=kret<=54 :\n",
        "   kret=1\n",
        "elif 55<=kret<=59 :\n",
        "   kret=1.5\n",
        "elif 60<=kret<=64 :\n",
        "   kret=2\n",
        "elif 65<=kret<=69 :\n",
        "   kret=2.5\n",
        "elif 70<=kret<=74 :\n",
        "   kret=3\n",
        "elif 75<=kret<=79 :\n",
        "   kret=3.5\n",
        "else :\n",
        "   kret=4\n",
        "print('ได้เกรด',kret)"
      ],
      "metadata": {
        "colab": {
          "base_uri": "https://localhost:8080/"
        },
        "id": "1e1nshTcIbCh",
        "outputId": "a6064104-e575-414f-ee75-a1c367203f8d"
      },
      "execution_count": 22,
      "outputs": [
        {
          "output_type": "stream",
          "name": "stdout",
          "text": [
            "ใส่คะแนนหน่วย1.....30\n",
            "ใส่คะแนนหน่วย2.....30\n",
            "ใส่คะแนนสอบกลางภาค.....4\n",
            "ใส่คะแนนสอบปลายภาค.....10\n",
            "ได้เกรด 3\n"
          ]
        }
      ]
    }
  ],
  "metadata": {
    "colab": {
      "provenance": [],
      "include_colab_link": true
    },
    "kernelspec": {
      "display_name": "Python 3",
      "name": "python3"
    },
    "language_info": {
      "name": "python"
    }
  },
  "nbformat": 4,
  "nbformat_minor": 0
}